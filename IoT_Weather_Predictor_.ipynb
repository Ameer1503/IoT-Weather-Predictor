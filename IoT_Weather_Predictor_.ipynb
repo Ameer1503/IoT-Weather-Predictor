{
  "nbformat": 4,
  "nbformat_minor": 0,
  "metadata": {
    "colab": {
      "private_outputs": true,
      "provenance": [],
      "authorship_tag": "ABX9TyNnAhke86uylyvJL/RrLi4A",
      "include_colab_link": true
    },
    "kernelspec": {
      "name": "python3",
      "display_name": "Python 3"
    },
    "language_info": {
      "name": "python"
    }
  },
  "cells": [
    {
      "cell_type": "markdown",
      "metadata": {
        "id": "view-in-github",
        "colab_type": "text"
      },
      "source": [
        "<a href=\"https://colab.research.google.com/github/Ameer1503/IoT-Weather-Predictor/blob/main/IoT_Weather_Predictor_.ipynb\" target=\"_parent\"><img src=\"https://colab.research.google.com/assets/colab-badge.svg\" alt=\"Open In Colab\"/></a>"
      ]
    },
    {
      "cell_type": "markdown",
      "source": [
        "# **IoT Temperature and Humidity Predictor using AutoTS Algorithm**\n",
        "AutoTS is an automated time series forecasting library in Python that uses a genetic algorithm to search for the best model parameters for a given dataset. It is built on top of the popular machine learning library scikit-learn and provides a simple, easy-to-use interface for training and evaluating time series models.\n",
        "\n",
        "AutoTS can handle various time series forecasting tasks, including univariate, multivariate, and forecasting with missing values. It also provides a range of models, including classical statistical models such as ARIMA and exponential smoothing, as well as machine learning models such as Random Forests and XGBoost.\n",
        "\n",
        "One of the key benefits of AutoTS is its ability to automatically select the best model parameters without requiring manual tuning. This is accomplished by using a genetic algorithm to search for the best model parameters based on a given set of evaluation metrics. This makes it particularly useful for data scientists and analysts who may not have deep expertise in time series modeling but still need to generate accurate forecasts.\n",
        "\n",
        "Overall, AutoTS is a powerful and flexible tool for time series forecasting that can help users save time and effort in selecting and training models."
      ],
      "metadata": {
        "id": "VQX_3WIIy1OC"
      }
    },
    {
      "cell_type": "code",
      "source": [
        "# Installing AutoTS\n",
        "!pip install autots"
      ],
      "metadata": {
        "id": "mQz985Nro4T7"
      },
      "execution_count": null,
      "outputs": []
    },
    {
      "cell_type": "code",
      "source": [
        "# Declearing Libraries\n",
        "\n",
        "import pandas as pd\n",
        "import matplotlib.pyplot as plt\n",
        "from autots import AutoTS\n",
        "from autots.datasets import load_daily"
      ],
      "metadata": {
        "id": "b4-rkzd-zYKr"
      },
      "execution_count": null,
      "outputs": []
    },
    {
      "cell_type": "code",
      "source": [
        "CHANNEL_ID = 2039086\n",
        "\n",
        "# Load data from ThingSpeak channel as .CSV into dataframe\n",
        "data = pd.read_csv(f'https://api.thingspeak.com/channels/{CHANNEL_ID}/feeds.csv?&results=1000')"
      ],
      "metadata": {
        "id": "Ce-mLKaUzngo"
      },
      "execution_count": null,
      "outputs": []
    },
    {
      "cell_type": "code",
      "source": [
        "# Convert timestamp to datetime format\n",
        "data['created_at'] = pd.to_datetime(data['created_at'])\n",
        "\n",
        "# Set timestamp as index\n",
        "data.set_index('created_at', inplace=True)"
      ],
      "metadata": {
        "id": "WSJ5bt8MzydB"
      },
      "execution_count": null,
      "outputs": []
    },
    {
      "cell_type": "code",
      "source": [
        "# Select temperature data and humidity data from dataframe\n",
        "temp_data = data['field1']\n",
        "hum_data = data['field2']"
      ],
      "metadata": {
        "id": "yQIch9qIz421"
      },
      "execution_count": null,
      "outputs": []
    },
    {
      "cell_type": "markdown",
      "source": [
        "## The **AutoTS** object is an instance of the Auto Time Series forecasting library, which is a Python library used for time series forecasting. It is designed to automatically search for the best forecasting model for a given time series dataset by trying different combinations of models and parameters, and evaluating them using various metrics.\n",
        "\n",
        "\n",
        "\n",
        "### In this specific code, the ** _model object is created using AutoTS with the following parameters:\n",
        "\n",
        "*   **forecast_length**: the number of time steps to forecast, which is set to 6 to forecast every 4 hours for a day.\n",
        "*   **frequency**: the frequency of the time series, which is set to 4 hours.\n",
        "* **prediction_interval**: the prediction interval, which is set to 0.7 to generate a 70% prediction interval for the forecasts.\n",
        "* **ensemble**: the type of ensemble method to use, which is set to 'simple'\n",
        "* **model_list**: the list of models to use, which is set to 'multivariate' to use models that can handle multiple input variables.\n",
        "* **ransformer_list**: the list of transformers to use, which is set to 'superfast' for faster computation.\n",
        "* **drop_most_recent**: the number of most recent time steps to drop from the input data, which is set to 1.\n",
        "* **max_generations**: the maximum number of generations for the genetic algorithm used to search for the best models and parameters, which is set to 5.\n",
        "* **num_validations**: the number of cross-validation folds to use, which is set to 1.\n",
        "* **models_to_validate**: the proportion of models to validate during the search, which is set to 0.2.\n",
        "* **n_jobs**: the number of CPU cores to use for parallel computation, which is set to 100.\n"
      ],
      "metadata": {
        "id": "6BEzzdin0nwR"
      }
    },
    {
      "cell_type": "code",
      "source": [
        "# model for temp\n",
        "temp_model = AutoTS(\n",
        "    forecast_length=6,  # Forecasting every 4 hours for a day, so 6 forecasts\n",
        "    frequency='4H',\n",
        "    prediction_interval=0.7,\n",
        "    ensemble='simple',\n",
        "    model_list='multivariate',\n",
        "    transformer_list='superfast',\n",
        "    drop_most_recent=1,\n",
        "    max_generations=5,\n",
        "    num_validations=1,\n",
        "    models_to_validate=0.2,\n",
        "    n_jobs=100,\n",
        ")\n",
        "\n",
        "\n",
        "# model for humidity\n",
        "hum_model = AutoTS(\n",
        "    forecast_length=6,  # Forecasting every 4 hours for a day, so 6 forecasts\n",
        "    frequency='4H',\n",
        "    prediction_interval=0.7,\n",
        "    ensemble='simple',\n",
        "    model_list='multivariate',\n",
        "    transformer_list='superfast',\n",
        "    drop_most_recent=1,\n",
        "    max_generations=5,\n",
        "    num_validations=1,\n",
        "    models_to_validate=0.2,\n",
        "    n_jobs=100,\n",
        ")\n"
      ],
      "metadata": {
        "id": "6qJGgzJo0CsB"
      },
      "execution_count": null,
      "outputs": []
    },
    {
      "cell_type": "markdown",
      "source": [
        "#**Temprature forecast**\n",
        "\n",
        "###**temp_model.fit(temp_data)**\n",
        "is a method call to fit the **temp_data** into the **temp_model** instance using the AutoTS algorithm. This method trains the model and finds the best-fitted model based on the given input data and parameters.\n",
        "\n",
        "###**temp_forecast = temp_model.predict()**\n",
        "forecast is a method call to make a forecast using the **temp_model** instance. This method uses the trained model to make future predictions and returns the forecasted values for the specified **forecast_length**. In this case, the forecast length is set to 6, which means the method returns 6 forecasted values for temperature at an interval of every 4 hours."
      ],
      "metadata": {
        "id": "SV1Vf2Vg4ZRB"
      }
    },
    {
      "cell_type": "code",
      "source": [
        "temp_model.fit(temp_data)\n",
        "temp_forecast = temp_model.predict().forecast\n",
        "\n",
        "temp_model_results = temp_model.results()"
      ],
      "metadata": {
        "id": "xOGPDfhO5A2d"
      },
      "execution_count": null,
      "outputs": []
    },
    {
      "cell_type": "code",
      "source": [
        "#Validation the the Temprature Results\n",
        "temp_model.results(\"validation\")"
      ],
      "metadata": {
        "id": "X7xqVFEA6YJ9"
      },
      "execution_count": null,
      "outputs": []
    },
    {
      "cell_type": "markdown",
      "source": [
        "#**Humidity forecast**\n",
        "###**hum_model.fit(hum_data)**\n",
        "is a method call to fit the **hum_data** into the **hum_model** instance using the AutoTS algorithm. This method trains the model and finds the best-fitted model based on the given input data and parameters.\n",
        "\n",
        "###**hum_forecast = hum_model.predict()**\n",
        "forecast is a method call to make a forecast using the **hum_model** instance. This method uses the trained model to make future predictions and returns the forecasted values for the specified **forecast_length**. In this case, the forecast length is set to 6, which means the method returns 6 forecasted values for temperature at an interval of every 4 hours."
      ],
      "metadata": {
        "id": "ZHy39Y-O5IKD"
      }
    },
    {
      "cell_type": "code",
      "source": [
        "hum_model.fit(hum_data)\n",
        "hum_forecast = hum_model.predict().forecast\n",
        "\n",
        "hum_model_results = hum_model.results()"
      ],
      "metadata": {
        "id": "nQXDgVT24X2F"
      },
      "execution_count": null,
      "outputs": []
    },
    {
      "cell_type": "code",
      "source": [
        "#Validation the the Humidity Results\n",
        "hum_model.results(\"validation\")"
      ],
      "metadata": {
        "id": "1qL31Rag6ob0"
      },
      "execution_count": null,
      "outputs": []
    },
    {
      "cell_type": "markdown",
      "source": [
        "#**Ploting the Forcasted Temprature and Humidity**"
      ],
      "metadata": {
        "id": "NUZkMd9V6z4i"
      }
    },
    {
      "cell_type": "code",
      "source": [
        "# Plot actual and forecasted temperature and humidity\n",
        "fig, ax = plt.subplots(figsize=(20, 6))\n",
        "ax.plot(temp_data.index, temp_data, label='Temperature Actual')\n",
        "ax.plot(temp_forecast.index, temp_forecast, label='Temperature Forecast')\n",
        "ax.plot(hum_data.index, hum_data, label='Humidity Actual')\n",
        "ax.plot(hum_forecast.index, hum_forecast, label='Humidity Forecast')"
      ],
      "metadata": {
        "id": "fLP19XC_6zPY"
      },
      "execution_count": null,
      "outputs": []
    },
    {
      "cell_type": "markdown",
      "source": [
        "#**Plot upper and lower forecast bounds as shaded region**"
      ],
      "metadata": {
        "id": "i71q82V17jxR"
      }
    },
    {
      "cell_type": "code",
      "source": [
        "# Plot upper and lower forecast bounds as shaded region\n",
        "fig, ax = plt.subplots(figsize=(20, 6))\n",
        "temp_up, temp_low = temp_model.predict().upper_forecast.squeeze(), temp_model.predict().lower_forecast.squeeze()\n",
        "hum_up, hum_low = hum_model.predict().upper_forecast.squeeze(), hum_model.predict().lower_forecast.squeeze()\n",
        "ax.fill_between(temp_up.index, temp_up.values, temp_low.values, alpha=0.6)\n",
        "ax.fill_between(hum_up.index, hum_up.values, hum_low.values, alpha=0.6)\n",
        "\n",
        "ax.legend()\n",
        "plt.show()"
      ],
      "metadata": {
        "id": "X11n36g07Bnc"
      },
      "execution_count": null,
      "outputs": []
    },
    {
      "cell_type": "markdown",
      "source": [
        "##**The Date and Time format is**\n",
        "\n",
        "###**03-24 20**\n",
        "###**MM-DD HH**\n",
        "\n",
        "\n",
        "---\n",
        "\n",
        "###**03**: MONTH\n",
        "###**24**: DAY\n",
        "###**20**: HOUR\n",
        "\n"
      ],
      "metadata": {
        "id": "zbQkwVgo_bVq"
      }
    },
    {
      "cell_type": "code",
      "source": [],
      "metadata": {
        "id": "b9R7yUoD_aKm"
      },
      "execution_count": null,
      "outputs": []
    }
  ]
}